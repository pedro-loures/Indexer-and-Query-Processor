{
 "cells": [
  {
   "cell_type": "code",
   "execution_count": 26,
   "metadata": {},
   "outputs": [],
   "source": [
    "from warcio.archiveiterator import ArchiveIterator\n",
    "\n",
    "PATH_TO_CORPUS = 'C:\\\\Users\\\\PLour\\\\OneDrive - Universidade Federal de Minas Gerais\\\\01_Estudos\\\\Faculdade\\\\RI\\\\processor\\\\corpus2.0\\\\'\n",
    "\n",
    "with open(PATH_TO_CORPUS+'part-0.warc.gz.kaggle', 'rb') as stream:\n",
    "    for record in ArchiveIterator(stream):\n",
    "\n",
    "        if record.rec_type == 'response':\n",
    "\n",
    "            url = record.rec_headers.get_header('WARC-Target-URI')\n",
    "            text = record.content_stream().read()\n"
   ]
  },
  {
   "cell_type": "code",
   "execution_count": 28,
   "metadata": {},
   "outputs": [
    {
     "data": {
      "text/plain": [
       "('https://www.pinterest.com/margaretdhaydel/easy-pepperoni-rolls/',\n",
       " b'24 Easy pepperoni rolls ideas | pepperoni rolls, easy pepperoni rolls, pepperoni rolls recipePinterestExploreWhen autocomplete results are available use up and down arrows to review and enter to select. Touch device users, explore by touch or with swipe gestures.Log inSign upEasy pepperoni rolls24 Pins\\xc2\\xa01yCollection by Margaret D. HaydelSimilar ideas popular nowPizza RollsRollsEasy Pepperoni RollsYummy AppetizersAppetizer RecipesPizza RecipesCooking RecipesBaked RollsTwice Baked PotatoesRecipe StepsPepperoni rolls are fun and quick to make homemade appetizers. This is a cheesy snack made with crescent biscuits, sauce, and pepperoni. The use of actual pizza dough tends to make the breading much softer. You\\xe2\\x80\\x99d never know that it was so easy to make the best pepperoni pizza rolls from scratch!Rolls RecipePizza DoughFun DessertsBreadsPepperoni rolls are fun and quick to make homemade appetizers. This is a cheesy snack made with crescent biscuits, sauce, and pepperoni. The use of actual pizza dough tends to make the breading much softer. You\\xe2\\x80\\x99d never know that it was so easy to make the best pepperoni pizza rolls from scratch!Types Of SaladPepperoni rolls are fun and quick to make homemade appetizers. This is a cheesy snack made with crescent biscuits, sauce, and pepperoni. The use of actual pizza dough tends to make the breading much softer. You\\xe2\\x80\\x99d never know that it was so easy to make the best pepperoni pizza rolls from scratch!Pepperoni BreadFrozen BiscuitsCrescent Roll PizzaGarlic RollsPerfect PizzaKid Friendly MealsPepperoni rolls are fun and quick to make homemade appetizers. This is a cheesy snack made with crescent biscuits, sauce, and pepperoni. The use of actual pizza dough tends to make the breading much softer. You\\xe2\\x80\\x99d never know that it was so easy to make the best pepperoni pizza rolls from scratch!Biscuit PizzaPepperoni rolls are fun and quick to make homemade appetizers. This is a cheesy snack made with crescent biscuits, sauce, and pepperoni. The use of actual pizza dough tends to make the breading much softer. You\\xe2\\x80\\x99d never know that it was so easy to make the best pepperoni pizza rolls from scratch!Pepperoni rolls are fun and quick to make homemade appetizers. This is a cheesy snack made with crescent biscuits, sauce, and pepperoni. The use of actual pizza dough tends to make the breading much softer. You\\xe2\\x80\\x99d never know that it was so easy to make the best pepperoni pizza rolls from scratch!Good Meatloaf RecipeBest MeatloafMeatloaf RecipesChili RecipesPie RecipesCasserole RecipesChicken RecipesDinner RecipesEasy Pepperoni Rolls - Spaceships and Laser BeamsPepperoni Crescent RollsNew RecipesYummy RecipesFavorite RecipesHealthy RecipesPepperoni rolls are fun and quick to make homemade appetizers. This is a cheesy snack made with crescent biscuits, sauce, and pepperoni. The use of actual pizza dough tends to make the breading much softer. You\\xe2\\x80\\x99d never know that it was so easy to make the best pepperoni pizza rolls from scratch!Skillet RecipesCooking GadgetsRoll Dough RecipeGood PizzaPizza PizzaCooking ToolsAppetizersSnacks RecipesHomemade Pizza Rolls\\xc2\\xb725mPilsbury Pizza DoughRefrigerated Pizza DoughHomemade Cheese SticksPizza Roll UpPizza SticksThese Homemade Pepperoni Rolls are made with refrigerated pizza dough, mozzarella cheese sticks and pepperoni for an easy dinner or snack!Pepperoni Pizza Sticks RecipePilsbury Biscuit RecipesPillsbury RecipesBest Pizza Rolls RecipeMozzarella Cheese SticksThese Homemade Pepperoni Rolls are made with refrigerated pizza dough, mozzarella cheese sticks and pepperoni for an easy dinner or snack!Fun Baking RecipesSnack RecipesPastry RecipesMa BakerBaguetteGood FoodThese Homemade Pepperoni Rolls are made with refrigerated pizza dough, mozzarella cheese sticks and pepperoni for an easy dinner or snack!Cheesy Potato CasserolePotatoe Casserole RecipesBreakfast Casserole EasyCheesy PotatoesPotato RecipesParty PotatoesCauliflower CasseroleBaked PotatoesPumpkin RecipesThe Easiest Pepperoni Rolls Recipe - All Things MammaNo Bake Oreo DessertOreo Dessert RecipesCake Mix RecipesBread RecipesDessertsCandy Cane CookiesSpritz CookiesBox Cake MixThe Easiest Pepperoni Rolls Recipe - All Things MammaBreakfast DishesBreakfast RecipesBreakfast CasseroleBreakfast WafflesMexican BreakfastPancake RecipesPancakesYummy WafflesThe Easiest Pepperoni Rolls Recipe - All Things MammaEasy Dinner RecipesEasy DinnersDelicious RecipesThese Homemade Pepperoni Rolls are made with refrigerated pizza dough, mozzarella cheese sticks and pepperoni for an easy dinner or snack!Cake Mix CookiesSugar Cookies RecipeApple Dump CakesThe Easiest Pepperoni Rolls Recipe - All Things MammaDump Cake RecipesCookie RecipesPeanut Butter Cup BrowniesPeanut Butter CupsPeanutbutter PieCherry Pineapple Dump CakeChocolate Cake Mix CookiesBuffalo Chicken Dip RecipeThe Easiest Pepperoni Rolls Recipe - All Things MammaMaking Homemade PizzaHomemade CheeseForget frozen pizza rolls! These Homemade Pepperoni Rolls are made with refrigerated pizza dough, mozzarella cheese sticks and pepperoni for an easy dinner or snack! Made famous in West Virginia, these Pizza Rolls will become a family favorite! #pizzarolls #recipesforkids #lunchboxideas #snacksforkids #pizzarolls #pepperonirollsRib RecipesCheese BunsEasy SnacksThese Homemade Pepperoni Rolls are made with refrigerated pizza dough, mozzarella cheese sticks and pepperoni for an easy dinner or snack!Pizza AppetizersJerky RecipesPizzaForget frozen pizza rolls! These Homemade Pepperoni Rolls are made with refrigerated pizza dough, mozzarella cheese sticks and pepperoni for an easy dinner or snack! Made famous in West Virginia, these Pizza Rolls will become a family favorite! #pizzarolls #recipesforkids #lunchboxideas #snacksforkids #pizzarolls #pepperonirollsPepperoni RecipesPizza SnacksAll Things MammaEasy pepperoni rolls')"
      ]
     },
     "execution_count": 28,
     "metadata": {},
     "output_type": "execute_result"
    }
   ],
   "source": [
    "url, text"
   ]
  },
  {
   "cell_type": "code",
   "execution_count": null,
   "metadata": {},
   "outputs": [],
   "source": []
  }
 ],
 "metadata": {
  "kernelspec": {
   "display_name": "Python 3.9.12 ('base')",
   "language": "python",
   "name": "python3"
  },
  "language_info": {
   "codemirror_mode": {
    "name": "ipython",
    "version": 3
   },
   "file_extension": ".py",
   "mimetype": "text/x-python",
   "name": "python",
   "nbconvert_exporter": "python",
   "pygments_lexer": "ipython3",
   "version": "3.9.12"
  },
  "orig_nbformat": 4,
  "vscode": {
   "interpreter": {
    "hash": "e2f62cb4564c84f0fc417a0719a1997c26b07566098f1a388516455a2c51c4d3"
   }
  }
 },
 "nbformat": 4,
 "nbformat_minor": 2
}
