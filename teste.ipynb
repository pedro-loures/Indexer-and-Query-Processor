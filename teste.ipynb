{
 "cells": [
  {
   "cell_type": "code",
   "execution_count": 26,
   "metadata": {},
   "outputs": [],
   "source": [
    "from warcio.archiveiterator import ArchiveIterator\n",
    "\n",
    "PATH_TO_CORPUS = 'C:\\\\Users\\\\PLour\\\\OneDrive - Universidade Federal de Minas Gerais\\\\01_Estudos\\\\Faculdade\\\\RI\\\\processor\\\\corpus2.0\\\\'\n",
    "\n",
    "with open(PATH_TO_CORPUS+'part-0.warc.gz.kaggle', 'rb') as stream:\n",
    "    for record in ArchiveIterator(stream):\n",
    "\n",
    "        if record.rec_type == 'response':\n",
    "\n",
    "            url = record.rec_headers.get_header('WARC-Target-URI')\n",
    "            text = record.content_stream().read()\n"
   ]
  },
  {
   "cell_type": "code",
   "execution_count": 4,
   "metadata": {},
   "outputs": [
    {
     "data": {
      "text/plain": [
       "('{', '}')"
      ]
     },
     "execution_count": 4,
     "metadata": {},
     "output_type": "execute_result"
    }
   ],
   "source": [
    "index_path = \"Results/index.txt\"\n",
    "\n",
    "with open(index_path,'r') as file: \n",
    "  content = file.readlines()\n",
    "content[0][0], content[-1][-1] "
   ]
  },
  {
   "cell_type": "code",
   "execution_count": 22,
   "metadata": {},
   "outputs": [
    {
     "data": {
      "text/plain": [
       "'https://ak.wikipedia.org/wiki/File:Flag_of_Sweden.svg'"
      ]
     },
     "execution_count": 22,
     "metadata": {},
     "output_type": "execute_result"
    }
   ],
   "source": [
    "import sys \n",
    "sysmax = sys.maxsize\n",
    "url = 'https://ak.wikipedia.org/wiki/File:Flag_of_Sweden.svg'\n",
    "urllen = len(url)\n",
    "biturl = url.encode('utf-8')\n",
    "numeric = int.from_bytes(biturl, byteorder='big')\n",
    "encoded_string = str(urllen) + '-' + str(numeric)\n",
    "\n",
    "\n",
    "lenght, encoded_url= encoded_string.split('-')\n",
    "\n",
    "lenght = int(lenght)\n",
    "encoded_url = int(encoded_url)\n",
    "url_bytes = encoded_url.to_bytes(lenght, 'big')\n",
    "url_bytes.decode('utf-8')"
   ]
  },
  {
   "cell_type": "code",
   "execution_count": 15,
   "metadata": {},
   "outputs": [
    {
     "data": {
      "text/plain": [
       "180"
      ]
     },
     "execution_count": 15,
     "metadata": {},
     "output_type": "execute_result"
    }
   ],
   "source": [
    "sys.getsizeof(encoded_string)"
   ]
  },
  {
   "cell_type": "code",
   "execution_count": 16,
   "metadata": {},
   "outputs": [
    {
     "data": {
      "text/plain": [
       "b'https://ak.wikipedia.org/wiki/File:Flag_of_Sweden.svg'"
      ]
     },
     "execution_count": 16,
     "metadata": {},
     "output_type": "execute_result"
    }
   ],
   "source": [
    "numeric.to_bytes(urllen, 'big')"
   ]
  },
  {
   "cell_type": "code",
   "execution_count": null,
   "metadata": {},
   "outputs": [],
   "source": []
  }
 ],
 "metadata": {
  "kernelspec": {
   "display_name": "Python 3.9.12 ('base')",
   "language": "python",
   "name": "python3"
  },
  "language_info": {
   "codemirror_mode": {
    "name": "ipython",
    "version": 3
   },
   "file_extension": ".py",
   "mimetype": "text/x-python",
   "name": "python",
   "nbconvert_exporter": "python",
   "pygments_lexer": "ipython3",
   "version": "3.9.12"
  },
  "orig_nbformat": 4,
  "vscode": {
   "interpreter": {
    "hash": "e2f62cb4564c84f0fc417a0719a1997c26b07566098f1a388516455a2c51c4d3"
   }
  }
 },
 "nbformat": 4,
 "nbformat_minor": 2
}
